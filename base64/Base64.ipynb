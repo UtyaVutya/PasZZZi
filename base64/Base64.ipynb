{
 "cells": [
  {
   "cell_type": "markdown",
   "metadata": {},
   "source": [
    "# Модуль Base64"
   ]
  },
  {
   "cell_type": "markdown",
   "metadata": {},
   "source": [
    "Модуль base64 содержит функции, позволяющие преобразовывать двоичные данные в текстовое представление c использованием подмножества символов ASCII, пригодного для передачи по сети посредством простых текстовых протоколов.\n",
    "\n",
    "Кодировки Base64, Base32, Base16 и Base85 преобразуют 8-битовые байты значения из диапазона печатаемых символов ASCII, добавляя в них дополнительные биты для достижения совместимости c системами, которые поддерживают только ASCII-данные, такими как SMTP. Значения Base соответствуют длине алфавита, используемого в каждой кодировке. Вариации исходных кодировок, безопасные в отношении включения URL-адреса, используют несколько иные алфавиты."
   ]
  },
  {
   "cell_type": "code",
   "execution_count": null,
   "metadata": {},
   "outputs": [],
   "source": [
    "import base64"
   ]
  },
  {
   "cell_type": "code",
   "execution_count": null,
   "metadata": {},
   "outputs": [],
   "source": [
    "s = 'Надеюсь, этот доклад не займет у меня больше 5 минут'\n",
    "s_base64 = base64.b64encode(s.encode('utf-8'))\n",
    "print(s_base64.decode('utf-8'))"
   ]
  },
  {
   "cell_type": "code",
   "execution_count": null,
   "metadata": {},
   "outputs": [],
   "source": [
    "s1_base64 = '0JrQsNC20LXRgtGB0Y8sINC+0L0g0LfQsNC90Y/QuyDQsdC+0LvRjNGI0LUg0LLRgNC10LzQtdC90LguLi4='\n",
    "s1 = base64.b64decode(s1_base64.encode())\n",
    "print(s1.decode())"
   ]
  },
  {
   "cell_type": "markdown",
   "metadata": {},
   "source": [
    "В связи c тем что используемый по умолчанию алфавит кодирования Base64 может включать символы '+' и '/' и эти два символа используются URL-адресах, нередко приходится прибегать альтернативным кодировкам, которых эти символы заменены другими символами."
   ]
  },
  {
   "cell_type": "code",
   "execution_count": null,
   "metadata": {},
   "outputs": [],
   "source": [
    "# Для примера возьмем строку из прошлого блока\n",
    "\n",
    "print(base64.b64encode(s1))\n",
    "print(base64.urlsafe_b64encode(s1))"
   ]
  },
  {
   "cell_type": "markdown",
   "metadata": {},
   "source": [
    "Как упоминалось раньше, модуль также предоставляет возможности для работы с кодировками Base85, Base32 и Base16."
   ]
  },
  {
   "cell_type": "code",
   "execution_count": null,
   "metadata": {
    "scrolled": true
   },
   "outputs": [],
   "source": [
    "s2 = 'А после этого доклада еще и про другие модули рассказывать...'.encode()\n",
    "print(f'Original string: {s2.decode()}\\n')\n",
    "print(f'Base16: {base64.b16encode(s2)}\\n')\n",
    "print(f'Base32: {base64.b32encode(s2)}\\n')\n",
    "print(f'Base85: {base64.b85encode(s2)}')"
   ]
  },
  {
   "cell_type": "markdown",
   "metadata": {},
   "source": [
    "## Задание\n",
    "В приложенном txt-файле есть png-картинка закодированная в base64 много раз. Надо раскодировать и получить картинку.\n",
    "P.S. Если делать пошагово с перезаписыванием в файл, то можно проследить, насколько быстро размер файла будет уменьшаться."
   ]
  }
 ],
 "metadata": {
  "kernelspec": {
   "display_name": "Python 3",
   "language": "python",
   "name": "python3"
  },
  "language_info": {
   "codemirror_mode": {
    "name": "ipython",
    "version": 3
   },
   "file_extension": ".py",
   "mimetype": "text/x-python",
   "name": "python",
   "nbconvert_exporter": "python",
   "pygments_lexer": "ipython3",
   "version": "3.8.3"
  }
 },
 "nbformat": 4,
 "nbformat_minor": 4
}
